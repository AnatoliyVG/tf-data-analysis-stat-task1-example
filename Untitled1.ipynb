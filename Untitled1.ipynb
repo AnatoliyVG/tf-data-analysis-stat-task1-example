{
  "nbformat": 4,
  "nbformat_minor": 0,
  "metadata": {
    "colab": {
      "provenance": [],
      "authorship_tag": "ABX9TyN/Z4E+owlM2qaZit3AobIF",
      "include_colab_link": true
    },
    "kernelspec": {
      "name": "python3",
      "display_name": "Python 3"
    },
    "language_info": {
      "name": "python"
    }
  },
  "cells": [
    {
      "cell_type": "markdown",
      "metadata": {
        "id": "view-in-github",
        "colab_type": "text"
      },
      "source": [
        "<a href=\"https://colab.research.google.com/github/AnatoliyVG/tf-data-analysis-stat-task1-example/blob/main/Untitled1.ipynb\" target=\"_parent\"><img src=\"https://colab.research.google.com/assets/colab-badge.svg\" alt=\"Open In Colab\"/></a>"
      ]
    },
    {
      "cell_type": "code",
      "execution_count": 2,
      "metadata": {
        "id": "VCD_jdQb6-fT"
      },
      "outputs": [],
      "source": [
        "import numpy as np\n",
        "\n",
        "def estimate_acceleration(path_measurements):\n",
        "    median = np.median(path_measurements) # оценка медианы\n",
        "    acceleration = 2 * median / 49 # формула для коэффициента ускорения\n",
        "    return acceleration\n",
        "\n",
        "    "
      ]
    },
    {
      "cell_type": "code",
      "source": [
        "path_measurements = np.array([10, 12, 9, 11, 10.5])\n",
        "acceleration = estimate_acceleration(path_measurements)\n",
        "print(acceleration)"
      ],
      "metadata": {
        "colab": {
          "base_uri": "https://localhost:8080/"
        },
        "id": "F-3XgsRQ_nZE",
        "outputId": "b7ad0df6-d336-49fa-fd2a-9aa23e3973a8"
      },
      "execution_count": 3,
      "outputs": [
        {
          "output_type": "stream",
          "name": "stdout",
          "text": [
            "0.42857142857142855\n"
          ]
        }
      ]
    }
  ]
}