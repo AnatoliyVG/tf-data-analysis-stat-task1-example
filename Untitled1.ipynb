{
  "nbformat": 4,
  "nbformat_minor": 0,
  "metadata": {
    "colab": {
      "provenance": [],
      "authorship_tag": "ABX9TyPc+IuQ7X+KSMxNPBOzr0YW",
      "include_colab_link": true
    },
    "kernelspec": {
      "name": "python3",
      "display_name": "Python 3"
    },
    "language_info": {
      "name": "python"
    }
  },
  "cells": [
    {
      "cell_type": "markdown",
      "metadata": {
        "id": "view-in-github",
        "colab_type": "text"
      },
      "source": [
        "<a href=\"https://colab.research.google.com/github/AnatoliyVG/tf-data-analysis-stat-task1-example/blob/main/Untitled1.ipynb\" target=\"_parent\"><img src=\"https://colab.research.google.com/assets/colab-badge.svg\" alt=\"Open In Colab\"/></a>"
      ]
    },
    {
      "cell_type": "code",
      "execution_count": 1,
      "metadata": {
        "id": "VCD_jdQb6-fT"
      },
      "outputs": [],
      "source": [
        "\n",
        "import numpy as np\n",
        "\n",
        "def acceleration_estimate(distance_array):\n",
        "    # вычисляем средний путь за 49 секунд\n",
        "    x_mean = np.mean(distance_array)\n",
        "    \n",
        "    # вычисляем ускорения для каждой машины в массиве\n",
        "    acceleration_array = [9.8*49**2/(2*x) for x in distance_array]\n",
        "    \n",
        "    # вычисляем оценку коэффициента ускорения по формуле МНК\n",
        "    numerator = sum([(x - x_mean)*(y - np.mean(acceleration_array)) for x,y in zip(distance_array, acceleration_array)])\n",
        "    denominator = sum([(x - x_mean)**2 for x in distance_array])\n",
        "    acceleration_estimate = numerator / denominator\n",
        "    \n",
        "    return acceleration_estimate"
      ]
    }
  ]
}